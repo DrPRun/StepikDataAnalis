{
 "cells": [
  {
   "cell_type": "code",
   "execution_count": 13,
   "id": "168be405",
   "metadata": {},
   "outputs": [],
   "source": [
    "year=2000"
   ]
  },
  {
   "cell_type": "code",
   "execution_count": 15,
   "id": "39c5bdaf",
   "metadata": {},
   "outputs": [
    {
     "name": "stdout",
     "output_type": "stream",
     "text": [
      "год високосный\n"
     ]
    }
   ],
   "source": [
    "if (year%4==0 and year%100!=0) or (year%400==0) :\n",
    "    print (\"год високосный\")\n",
    "else:\n",
    "    print (\"год невисокосный\")"
   ]
  },
  {
   "cell_type": "code",
   "execution_count": 31,
   "id": "fa47f53c",
   "metadata": {},
   "outputs": [
    {
     "name": "stdout",
     "output_type": "stream",
     "text": [
      "введите номер билета123240\n"
     ]
    }
   ],
   "source": [
    "ticket=int(input(\"введите номер билета\"))"
   ]
  },
  {
   "cell_type": "code",
   "execution_count": 32,
   "id": "5b1855e1",
   "metadata": {},
   "outputs": [
    {
     "name": "stdout",
     "output_type": "stream",
     "text": [
      "0\n"
     ]
    }
   ],
   "source": [
    "digit_6=ticket%10\n",
    "print(digit_6)"
   ]
  },
  {
   "cell_type": "code",
   "execution_count": 33,
   "id": "b1e99f46",
   "metadata": {},
   "outputs": [
    {
     "name": "stdout",
     "output_type": "stream",
     "text": [
      "4\n"
     ]
    }
   ],
   "source": [
    "digit_5=(ticket//10)%10\n",
    "print(digit_5)"
   ]
  },
  {
   "cell_type": "code",
   "execution_count": 34,
   "id": "0037eb6f",
   "metadata": {},
   "outputs": [
    {
     "name": "stdout",
     "output_type": "stream",
     "text": [
      "2\n"
     ]
    }
   ],
   "source": [
    "digit_4=(ticket//100)%10\n",
    "print(digit_4)"
   ]
  },
  {
   "cell_type": "code",
   "execution_count": 35,
   "id": "51f51da6",
   "metadata": {},
   "outputs": [
    {
     "name": "stdout",
     "output_type": "stream",
     "text": [
      "3\n"
     ]
    }
   ],
   "source": [
    "digit_3=(ticket//1000)%10\n",
    "print(digit_3)"
   ]
  },
  {
   "cell_type": "code",
   "execution_count": 36,
   "id": "07372800",
   "metadata": {},
   "outputs": [
    {
     "name": "stdout",
     "output_type": "stream",
     "text": [
      "2\n"
     ]
    }
   ],
   "source": [
    "digit_2 = (ticket//10000)%10\n",
    "print(digit_2)"
   ]
  },
  {
   "cell_type": "code",
   "execution_count": 37,
   "id": "7b707b2f",
   "metadata": {},
   "outputs": [
    {
     "name": "stdout",
     "output_type": "stream",
     "text": [
      "1\n"
     ]
    }
   ],
   "source": [
    "digit_1=(ticket//100000)\n",
    "print(digit_1)"
   ]
  },
  {
   "cell_type": "code",
   "execution_count": 39,
   "id": "f0cb714f",
   "metadata": {},
   "outputs": [
    {
     "name": "stdout",
     "output_type": "stream",
     "text": [
      "счастливый билет\n"
     ]
    }
   ],
   "source": [
    "if (digit_1+digit_2+digit_3)==(digit_4+digit_5+digit_6):\n",
    "    print (\"счастливый билет\")\n",
    "else:\n",
    "    print (\"несчастливый билет\")"
   ]
  },
  {
   "cell_type": "code",
   "execution_count": null,
   "id": "d5e7d1b3",
   "metadata": {},
   "outputs": [],
   "source": []
  }
 ],
 "metadata": {
  "kernelspec": {
   "display_name": "Python 3",
   "language": "python",
   "name": "python3"
  },
  "language_info": {
   "codemirror_mode": {
    "name": "ipython",
    "version": 3
   },
   "file_extension": ".py",
   "mimetype": "text/x-python",
   "name": "python",
   "nbconvert_exporter": "python",
   "pygments_lexer": "ipython3",
   "version": "3.8.8"
  }
 },
 "nbformat": 4,
 "nbformat_minor": 5
}
